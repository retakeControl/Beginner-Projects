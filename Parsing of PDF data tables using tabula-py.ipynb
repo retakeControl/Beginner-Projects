{
 "cells": [
  {
   "cell_type": "markdown",
   "id": "5acb31ee-d2f6-4419-984e-9eede3a0c3e1",
   "metadata": {},
   "source": [
    "# This notebook contains a set of codes to parse data tables using the Tabula and Tabula-py package"
   ]
  },
  {
   "cell_type": "code",
   "execution_count": 1,
   "id": "8a3831e1-2be3-4d72-9de5-712dd5dcdc7f",
   "metadata": {},
   "outputs": [],
   "source": [
    "# Installing the 2 packages.\n",
    "\n",
    "!pip install tabula tabula-py"
   ]
  },
  {
   "cell_type": "code",
   "execution_count": 2,
   "id": "31fec316-2e18-4413-9d71-c9c16f660281",
   "metadata": {},
   "outputs": [],
   "source": [
    "# Importing them in.\n",
    "\n",
    "import tabula\n",
    "from tabula.io import read_pdf"
   ]
  },
  {
   "cell_type": "code",
   "execution_count": null,
   "id": "e0397d91-c353-4e2b-80d2-b2be137e9347",
   "metadata": {},
   "outputs": [],
   "source": [
    "# Recommend to use Google Colab as it has built-in JRE.\n",
    "# Run the codes below to upload to the runtime.\n",
    "\n",
    "from google.colab import files\n",
    "uploaded = files.upload()"
   ]
  },
  {
   "cell_type": "code",
   "execution_count": null,
   "id": "fc434e4f-9c4d-462f-8975-26318f808bc8",
   "metadata": {},
   "outputs": [],
   "source": [
    "# Testing of a single PDF to see what data could be parsed. In this example, I've used AAPL Q4 Financials.\n",
    "\n",
    "pdf = \"aapl_q4_2022.pdf\"\n",
    "df = tabula.read_pdf(pdf, pages = '1')\n",
    "df[0]"
   ]
  },
  {
   "cell_type": "code",
   "execution_count": null,
   "id": "29d052a5-4cec-4c23-be4b-cd4f546f0d5c",
   "metadata": {},
   "outputs": [],
   "source": [
    "# Exporting the parsed data into CSV.\n",
    "\n",
    "%%time\n",
    "df[0].to_csv('aaplq4_pg1.csv')"
   ]
  },
  {
   "cell_type": "code",
   "execution_count": null,
   "id": "673bcc93-a66b-42dd-9891-cdc2eecacc58",
   "metadata": {},
   "outputs": [],
   "source": [
    "# To extract all data tables in the PDF\n",
    "\n",
    "%%time\n",
    "dfs = tabula.read_pdf(pdf, pages ='all')\n",
    "for i in range(len(dfs)):\n",
    "  dfs[i].to_csv(f'aaplq4_pg{i}.csv')"
   ]
  },
  {
   "cell_type": "code",
   "execution_count": null,
   "id": "20c2cfee-4170-4944-a2c8-8c4e47ce4035",
   "metadata": {},
   "outputs": [],
   "source": [
    "# Areas to improve include: Parsing multiple PDFs and extracting all data tables into CSVs."
   ]
  }
 ],
 "metadata": {
  "kernelspec": {
   "display_name": "Python 3 (ipykernel)",
   "language": "python",
   "name": "python3"
  },
  "language_info": {
   "codemirror_mode": {
    "name": "ipython",
    "version": 3
   },
   "file_extension": ".py",
   "mimetype": "text/x-python",
   "name": "python",
   "nbconvert_exporter": "python",
   "pygments_lexer": "ipython3",
   "version": "3.10.4"
  }
 },
 "nbformat": 4,
 "nbformat_minor": 5
}
